{
  "nbformat": 4,
  "nbformat_minor": 0,
  "metadata": {
    "colab": {
      "provenance": [],
      "authorship_tag": "ABX9TyNq+ju42jbrd0sgBHQ95wTH",
      "include_colab_link": true
    },
    "kernelspec": {
      "name": "python3",
      "display_name": "Python 3"
    },
    "language_info": {
      "name": "python"
    }
  },
  "cells": [
    {
      "cell_type": "markdown",
      "metadata": {
        "id": "view-in-github",
        "colab_type": "text"
      },
      "source": [
        "<a href=\"https://colab.research.google.com/github/Mohsinraza23/Assignment-04/blob/main/04_dictionaries.ipynb\" target=\"_parent\"><img src=\"https://colab.research.google.com/assets/colab-badge.svg\" alt=\"Open In Colab\"/></a>"
      ]
    },
    {
      "cell_type": "code",
      "execution_count": 1,
      "metadata": {
        "colab": {
          "base_uri": "https://localhost:8080/"
        },
        "id": "yrCtdm0QD2la",
        "outputId": "c8ead71f-7e8c-4af7-fd9b-70980b90503a"
      },
      "outputs": [
        {
          "output_type": "stream",
          "name": "stdout",
          "text": [
            "00_count_nums\n",
            "Enter a number (or 'Exit' to quit): 10\n",
            "{10: 1}\n",
            "Enter a number (or 'Exit' to quit): Exit\n",
            "Invalid input. Please enter a number or 'Exit'.\n",
            "\n",
            " Number Counts:\n",
            "10 appears 1 times\n"
          ]
        }
      ],
      "source": [
        "print(\"00_count_nums\")\n",
        "\n",
        "def count_numbers():\n",
        "  count_dict = {}\n",
        "\n",
        "  while True:\n",
        "    num = input(\"Enter a number (or 'Exit' to quit): \")\n",
        "    if num.lower() == 'Exit':\n",
        "      break\n",
        "    if num.isdigit():\n",
        "      num = int(num)\n",
        "      count_dict[num] = count_dict.get(num, 0) + 1\n",
        "      print(count_dict)\n",
        "    else:\n",
        "      print(\"Invalid input. Please enter a number or 'Exit'.\")\n",
        "      return count_dict\n",
        "\n",
        "def display_counts(count_dict):\n",
        "  print(\"\\n Number Counts:\")\n",
        "  for key,value in count_dict.items():\n",
        "      print(f'{key} appears {value} times')\n",
        "\n",
        "\n",
        "if __name__ == \"__main__\":\n",
        "  count = count_numbers()\n",
        "  display_counts(count)\n",
        "\n"
      ]
    },
    {
      "cell_type": "code",
      "source": [
        "print(\"01_phonebook\")\n",
        "\n",
        "def add_contact(phonebook):\n",
        "  name = input(\"Enter contact name: \")\n",
        "  number = input(\"Enter contact number: \")\n",
        "\n",
        "  if name in phonebook:\n",
        "    print(f\"{name} already exists in the phonebook.\")\n",
        "  else:\n",
        "    phonebook[name] = number\n",
        "    print(f\"{name} added to the phonebook.\")\n",
        "\n",
        "def search_contact(phonebook):\n",
        "  name = input(\"Enter contact name to search: \")\n",
        "\n",
        "  if name in phonebook:\n",
        "    print(f\"{name}: {phonebook[name]}\")\n",
        "  else:\n",
        "    print(f\"{name} not found in the phonebook.\")\n",
        "\n",
        "def delete_contact(phonebook):\n",
        "  name = input(\"Enter contact name to delete: \")\n",
        "  if name in phonebook:\n",
        "    del phonebook[name]\n",
        "    print(f\"{name} deleted from the phonebook.\")\n",
        "  else:\n",
        "    print(f\"{name} not found in phonebook.\")\n",
        "\n",
        "\n",
        "def display_contact(phonebook):\n",
        "  if phonebook:\n",
        "    print(\"\\n Phonebook Contacts list\")\n",
        "    for name,number in phonebook.items():\n",
        "      print(f\"{name}: {number}\")\n",
        "  else:\n",
        "    print(\"Phonebook is empty.\")\n",
        "\n",
        "if __name__ == \"__main__\":\n",
        "  phonebook = {}\n",
        "\n",
        "  while True:\n",
        "    print(\"\\n Phonebook Menu\")\n",
        "    print(\"1. Add Contact\")\n",
        "    print(\"2. Search Contact\")\n",
        "    print(\"3. Delete Contact\")\n",
        "    print(\"4. Display Contacts\")\n",
        "    print(\"5. Exit\")\n",
        "\n",
        "    choice = input(\"Enter your choice (1-5): \")\n",
        "\n",
        "    if choice == '1':\n",
        "      add_contact(phonebook)\n",
        "    elif choice == '2':\n",
        "      search_contact(phonebook)\n",
        "    elif choice == '3':\n",
        "      delete_contact(phonebook)\n",
        "    elif choice == '4':\n",
        "      display_contact(phonebook)\n",
        "    elif choice == '5':\n",
        "      print(\"Exiting Phonebook. Goodbye!\")\n",
        "      break\n",
        "    else:\n",
        "      print(\"Invalid choice. Please enter a number between 1 to 5.\")"
      ],
      "metadata": {
        "colab": {
          "base_uri": "https://localhost:8080/"
        },
        "id": "KQxuDY6tEUcP",
        "outputId": "6c1172be-b45a-464b-ded6-53fbde59d54d"
      },
      "execution_count": 2,
      "outputs": [
        {
          "output_type": "stream",
          "name": "stdout",
          "text": [
            "01_phonebook\n",
            "\n",
            " Phonebook Menu\n",
            "1. Add Contact\n",
            "2. Search Contact\n",
            "3. Delete Contact\n",
            "4. Display Contacts\n",
            "5. Exit\n",
            "Enter your choice (1-5): 2\n",
            "Enter contact name to search: Mohsin\n",
            "Mohsin not found in the phonebook.\n",
            "\n",
            " Phonebook Menu\n",
            "1. Add Contact\n",
            "2. Search Contact\n",
            "3. Delete Contact\n",
            "4. Display Contacts\n",
            "5. Exit\n",
            "Enter your choice (1-5): 1\n",
            "Enter contact name: Mohsin\n",
            "Enter contact number: 03452615590\n",
            "Mohsin added to the phonebook.\n",
            "\n",
            " Phonebook Menu\n",
            "1. Add Contact\n",
            "2. Search Contact\n",
            "3. Delete Contact\n",
            "4. Display Contacts\n",
            "5. Exit\n",
            "Enter your choice (1-5): 2\n",
            "Enter contact name to search: Mohsin\n",
            "Mohsin: 03452615590\n",
            "\n",
            " Phonebook Menu\n",
            "1. Add Contact\n",
            "2. Search Contact\n",
            "3. Delete Contact\n",
            "4. Display Contacts\n",
            "5. Exit\n",
            "Enter your choice (1-5): 5\n",
            "Exiting Phonebook. Goodbye!\n"
          ]
        }
      ]
    },
    {
      "cell_type": "code",
      "source": [
        "print(\"02_pop_up_shop\")\n",
        "\n",
        "def calculate_total_cost():\n",
        "  fruits_price = {\n",
        "      \"apple\":5.0,\n",
        "      \"mango\":15.0,\n",
        "      \"kiwi\":8.0,\n",
        "      \"pear\":12.0,\n",
        "      \"banana\":6.0,\n",
        "      \"orange\":10.0\n",
        "  }\n",
        "\n",
        "  total_cost = 0\n",
        "\n",
        "  for fruit,price in fruits_price.items():\n",
        "    while True:\n",
        "      try:\n",
        "        quantity = int(input(f'How many {fruit} do you want?: '))\n",
        "        if quantity < 0:\n",
        "          print(\"Invalid input. Please enter a non-negative number.\")\n",
        "          continue\n",
        "        total_cost += price * quantity\n",
        "        break\n",
        "      except ValueError:\n",
        "        print(\"Invalid input. Please enter a valid number.\")\n",
        "\n",
        "    print(f\"\\n Your total cost is: ${total_cost:.2f}\")\n",
        "\n",
        "if __name__ == \"__main__\":\n",
        "  calculate_total_cost()\n"
      ],
      "metadata": {
        "colab": {
          "base_uri": "https://localhost:8080/"
        },
        "id": "wD6Wel8KE5Ak",
        "outputId": "d014bde9-0c89-4187-eb58-1d60723a297a"
      },
      "execution_count": 3,
      "outputs": [
        {
          "output_type": "stream",
          "name": "stdout",
          "text": [
            "02_pop_up_shop\n",
            "How many apple do you want?: 10\n",
            "\n",
            " Your total cost is: $50.00\n",
            "How many mango do you want?: 4\n",
            "\n",
            " Your total cost is: $110.00\n",
            "How many kiwi do you want?: 5\n",
            "\n",
            " Your total cost is: $150.00\n",
            "How many pear do you want?: 2\n",
            "\n",
            " Your total cost is: $174.00\n",
            "How many banana do you want?: 6\n",
            "\n",
            " Your total cost is: $210.00\n",
            "How many orange do you want?: 6\n",
            "\n",
            " Your total cost is: $270.00\n"
          ]
        }
      ]
    },
    {
      "cell_type": "code",
      "source": [
        "import hashlib\n",
        "\n",
        "print(\"03_powerful_passwords\")\n",
        "\n",
        "def hash_password(password):\n",
        "  return hashlib.sha256(password.encode()).hexdigest()\n",
        "\n",
        "stored_logins = {\n",
        "    \"user@example.com\":hash_password(\"password123\"),\n",
        "    \"admin@example.com\":hash_password(\"adminpass\")\n",
        "}\n",
        "\n",
        "def login(email,password):\n",
        "  if email in stored_logins:\n",
        "    return stored_logins[email] == hash_password(password)\n",
        "  return False\n",
        "\n",
        "\n",
        "if __name__ == \"__main__\":\n",
        "  email = input(\"Enter your email: \")\n",
        "  password = input(\"Enter your password: \")\n",
        "\n",
        "\n",
        "  if login(email,password):\n",
        "    print(\"Login successful!\")\n",
        "  else:\n",
        "    print(\"Invalid email or password.\")\n",
        "\n",
        "\n"
      ],
      "metadata": {
        "colab": {
          "base_uri": "https://localhost:8080/"
        },
        "id": "43AvgJciFLz9",
        "outputId": "065f440d-43a0-4429-bd6c-a2c79fbaa38d"
      },
      "execution_count": 6,
      "outputs": [
        {
          "output_type": "stream",
          "name": "stdout",
          "text": [
            "03_powerful_passwords\n",
            "Enter your email: user@example.com\n",
            "Enter your password: password123\n",
            "Login successful!\n"
          ]
        }
      ]
    },
    {
      "cell_type": "code",
      "source": [],
      "metadata": {
        "id": "1swAcij2Fd4b"
      },
      "execution_count": null,
      "outputs": []
    }
  ]
}