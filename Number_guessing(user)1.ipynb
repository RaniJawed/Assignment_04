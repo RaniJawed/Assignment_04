{
  "nbformat": 4,
  "nbformat_minor": 0,
  "metadata": {
    "colab": {
      "provenance": [],
      "authorship_tag": "ABX9TyMDXPJGP5b5KvypJS3zC5m5",
      "include_colab_link": true
    },
    "kernelspec": {
      "name": "python3",
      "display_name": "Python 3"
    },
    "language_info": {
      "name": "python"
    }
  },
  "cells": [
    {
      "cell_type": "markdown",
      "metadata": {
        "id": "view-in-github",
        "colab_type": "text"
      },
      "source": [
        "<a href=\"https://colab.research.google.com/github/Mohsinraza23/Assignment-04/blob/main/Number_guessing(user)1.ipynb\" target=\"_parent\"><img src=\"https://colab.research.google.com/assets/colab-badge.svg\" alt=\"Open In Colab\"/></a>"
      ]
    },
    {
      "cell_type": "code",
      "execution_count": 1,
      "metadata": {
        "colab": {
          "base_uri": "https://localhost:8080/"
        },
        "id": "U9ezJerqAutb",
        "outputId": "1e8f0c17-861f-4a96-c02e-289f6c4c8adb"
      },
      "outputs": [
        {
          "output_type": "stream",
          "name": "stdout",
          "text": [
            "\n",
            " ✨Welcome to the Number Guessing Game.✨ \n",
            "\n",
            "\n",
            " 👨‍💻 User Guess the Number 👩‍💻 \n",
            "\n",
            "🎯 I have a Secret Number between 1 to 10. Can you guess it? 🤔\n",
            "🔢Guess the Number.1\n",
            "📉 Too Low! Try again. 🔄\n",
            "🔢Guess the Number.4\n",
            "📉 Too Low! Try again. 🔄\n",
            "🔢Guess the Number.7\n",
            "🎉 🎉🎉🎉🎉 Congratulation you guess the right number. 🎉 🎉🎉🎉🎉\n"
          ]
        }
      ],
      "source": [
        "import random\n",
        "print(\"\\n ✨Welcome to the Number Guessing Game.✨ \\n\")\n",
        "print(\"\\n 👨‍💻 User Guess the Number 👩‍💻 \\n\")\n",
        "\n",
        "Secret_Number = random.randint(1,10)\n",
        "print(\"🎯 I have a Secret Number between 1 to 10. Can you guess it? 🤔\")\n",
        "\n",
        "while True:\n",
        "  try:\n",
        "    guess = int(input(\"🔢Guess the Number.\"))\n",
        "\n",
        "    if guess > Secret_Number:\n",
        "      print(\"📈 Too High! Try again. 🔄\")\n",
        "    elif guess < Secret_Number:\n",
        "      print(\"📉 Too Low! Try again. 🔄\")\n",
        "    else:\n",
        "      print(\"🎉 🎉🎉🎉🎉 Congratulation you guess the right number. 🎉 🎉🎉🎉🎉\" )\n",
        "      break\n",
        "  except ValueError:\n",
        "    print(\"⚠️ Please enter a valid number! 🚫\")\n",
        ""
      ]
    }
  ]
}