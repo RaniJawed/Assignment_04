{
  "nbformat": 4,
  "nbformat_minor": 0,
  "metadata": {
    "colab": {
      "provenance": [],
      "authorship_tag": "ABX9TyMKuPAokvXWoaRzNtTFX//M",
      "include_colab_link": true
    },
    "kernelspec": {
      "name": "python3",
      "display_name": "Python 3"
    },
    "language_info": {
      "name": "python"
    }
  },
  "cells": [
    {
      "cell_type": "markdown",
      "metadata": {
        "id": "view-in-github",
        "colab_type": "text"
      },
      "source": [
        "<a href=\"https://colab.research.google.com/github/Mohsinraza23/Assignment-04/blob/main/00_intro_python.ipynb\" target=\"_parent\"><img src=\"https://colab.research.google.com/assets/colab-badge.svg\" alt=\"Open In Colab\"/></a>"
      ]
    },
    {
      "cell_type": "code",
      "execution_count": 1,
      "metadata": {
        "colab": {
          "base_uri": "https://localhost:8080/"
        },
        "id": "Y23QQeNoDRPd",
        "outputId": "6e59c107-a56c-4727-acc3-f53efad1c235"
      },
      "outputs": [
        {
          "output_type": "stream",
          "name": "stdout",
          "text": [
            "01_add_two_numbers\n",
            "This application for add two numbers\n",
            "Enter your first number. 20\n",
            "Enter your second nunber. 10\n",
            "The total sum of 20 and 10 is 30\n"
          ]
        }
      ],
      "source": [
        "print(\"01_add_two_numbers\")\n",
        "\n",
        "def add():\n",
        "  print(\"This application for add two numbers\")\n",
        "  first_number = int(input(\"Enter your first number. \"))\n",
        "  second_number = int(input(\"Enter your second nunber. \"))\n",
        "  total = int(first_number + second_number)\n",
        "  print(f'The total sum of {first_number} and {second_number} is {total}')\n",
        "\n",
        "if __name__ == \"__main__\":\n",
        "  add()"
      ]
    },
    {
      "cell_type": "code",
      "source": [
        "print(\"02_agreement_bot\")\n",
        "\n",
        "def bot():\n",
        "  animal = str(input(\"what their favorite animal is? \"))\n",
        "  print(f'My favorite animal is also {animal}!')\n",
        "\n",
        "if __name__ == \"__main__\":\n",
        "  bot()"
      ],
      "metadata": {
        "colab": {
          "base_uri": "https://localhost:8080/"
        },
        "id": "3_C6JiUmD9bA",
        "outputId": "1314bad4-7e51-4365-e22c-64d3cafbc112"
      },
      "execution_count": 2,
      "outputs": [
        {
          "output_type": "stream",
          "name": "stdout",
          "text": [
            "02_agreement_bot\n",
            "what their favorite animal is? cat\n",
            "My favorite animal is also cat!\n"
          ]
        }
      ]
    },
    {
      "cell_type": "code",
      "source": [
        "print(\"03_fahrenheit_to_celsius\")\n",
        "\n",
        "def temp():\n",
        "  print(\"This code for converting fahrenheit to celsius\")\n",
        "  fahrenheit_degree = float(input(\"Enter your fahrenheit degree. \"))\n",
        "  celsius_degree = (fahrenheit_degree - 32) * 5.0/9.0\n",
        "  print(f'Tempereture {fahrenheit_degree} F = {celsius_degree} C')\n",
        "\n",
        "if __name__ == \"__main__\":\n",
        "  temp()"
      ],
      "metadata": {
        "colab": {
          "base_uri": "https://localhost:8080/"
        },
        "id": "TIoIZx6lEPH_",
        "outputId": "49bc0764-ff21-4b45-e48f-8cbfb7c2fc37"
      },
      "execution_count": 3,
      "outputs": [
        {
          "output_type": "stream",
          "name": "stdout",
          "text": [
            "03_fahrenheit_to_celsius\n",
            "This code for converting fahrenheit to celsius\n",
            "Enter your fahrenheit degree. 76\n",
            "Tempereture 76.0 F = 24.444444444444443 C\n"
          ]
        }
      ]
    },
    {
      "cell_type": "code",
      "source": [
        "print(\"04_how_old_are_they\")\n",
        "\n",
        "def add_ages():\n",
        "  anthon:int = 21\n",
        "  beth:int = anthon + 6\n",
        "  chen:int = beth + 20\n",
        "  drew:int = chen + anthon\n",
        "  ethan:int = chen\n",
        "\n",
        "  print(\"Anthon is \" + str(anthon))\n",
        "  print(\"Beth is \" + str(beth))\n",
        "  print(\"Chen is \" + str(chen))\n",
        "  print(\"Drew is \" + str(drew))\n",
        "  print(\"Ethen is \" + str(ethan))\n",
        "\n",
        "\n",
        "if __name__ == \"__main__\":\n",
        "  add_ages()\n",
        "\n",
        "\n"
      ],
      "metadata": {
        "colab": {
          "base_uri": "https://localhost:8080/"
        },
        "id": "B7HKH4P6EXgH",
        "outputId": "70d8f089-9263-45cd-846b-6c998730ae25"
      },
      "execution_count": 4,
      "outputs": [
        {
          "output_type": "stream",
          "name": "stdout",
          "text": [
            "04_how_old_are_they\n",
            "Anthon is 21\n",
            "Beth is 27\n",
            "Chen is 47\n",
            "Drew is 68\n",
            "Ethen is 47\n"
          ]
        }
      ]
    },
    {
      "cell_type": "code",
      "source": [
        "print(\"05_triangle_perimeter.\")\n",
        "\n",
        "def triangle():\n",
        "  print(\"This code is about perimeter of triangle.\")\n",
        "  side1:float = float(input(\"Enter your first side no of triangle. \"))\n",
        "  side2:float= float(input(\"Enter your second side no of triangke. \"))\n",
        "  side3:float = float(input(\"Enter your third side no of triangle. \"))\n",
        "  total:float = float(side1 + side2 + side3)\n",
        "  print(f'The perimeter of the triangle is {total}')\n",
        "\n",
        "if __name__ == \"__main__\":\n",
        "  triangle()"
      ],
      "metadata": {
        "colab": {
          "base_uri": "https://localhost:8080/"
        },
        "id": "8HQTyFwqFAbO",
        "outputId": "d06784f6-5c28-44e5-e8fe-e0a9c00235e0"
      },
      "execution_count": 5,
      "outputs": [
        {
          "output_type": "stream",
          "name": "stdout",
          "text": [
            "05_triangle_perimeter.\n",
            "This code is about perimeter of triangle.\n",
            "Enter your first side no of triangle. 10\n",
            "Enter your second side no of triangke. 30\n",
            "Enter your third side no of triangle. 20\n",
            "The perimeter of the triangle is 60.0\n"
          ]
        }
      ]
    },
    {
      "cell_type": "code",
      "source": [
        "print(\"06_square_number\")\n",
        "\n",
        "def square():\n",
        "  print(\"This code is about square of given number\")\n",
        "  num1:int = int(input(\"Enter any number and i will give u a square value. \"))\n",
        "  print(f'The square of {num1} is {num1 ** 2}')\n",
        "\n",
        "if __name__ == \"__main__\":\n",
        "  square()\n",
        "\n"
      ],
      "metadata": {
        "colab": {
          "base_uri": "https://localhost:8080/"
        },
        "id": "zPm8QzHbFFw-",
        "outputId": "970008f8-66ce-4a5a-82a1-1ec20fcd74c4"
      },
      "execution_count": 6,
      "outputs": [
        {
          "output_type": "stream",
          "name": "stdout",
          "text": [
            "06_square_number\n",
            "This code is about square of given number\n",
            "Enter any number and i will give u a square value. 10\n",
            "The square of 10 is 100\n"
          ]
        }
      ]
    }
  ]
}