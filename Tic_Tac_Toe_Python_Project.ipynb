{
  "nbformat": 4,
  "nbformat_minor": 0,
  "metadata": {
    "colab": {
      "provenance": [],
      "authorship_tag": "ABX9TyNKV8JcCV4F9JuwiV0diLyK",
      "include_colab_link": true
    },
    "kernelspec": {
      "name": "python3",
      "display_name": "Python 3"
    },
    "language_info": {
      "name": "python"
    }
  },
  "cells": [
    {
      "cell_type": "markdown",
      "metadata": {
        "id": "view-in-github",
        "colab_type": "text"
      },
      "source": [
        "<a href=\"https://colab.research.google.com/github/Mohsinraza23/Assignment-04/blob/main/Tic_Tac_Toe_Python_Project.ipynb\" target=\"_parent\"><img src=\"https://colab.research.google.com/assets/colab-badge.svg\" alt=\"Open In Colab\"/></a>"
      ]
    },
    {
      "cell_type": "code",
      "execution_count": null,
      "metadata": {
        "colab": {
          "base_uri": "https://localhost:8080/"
        },
        "id": "S0ju37eVQgRW",
        "outputId": "8bcf938d-aec3-404c-c9b6-6f6eac383e50"
      },
      "outputs": [
        {
          "output_type": "stream",
          "name": "stdout",
          "text": [
            "Welcome to Tic-Tac-Toe!\n",
            "|   |   |   |\n",
            "|   |   |   |\n",
            "|   |   |   |\n",
            "X's turn. Enter row (0-2): 0\n",
            "X's turn. Enter column (0-2): 2\n",
            "|   |   | X |\n",
            "|   |   |   |\n",
            "|   |   |   |\n",
            "O's turn. Enter row (0-2): 2\n",
            "O's turn. Enter column (0-2): 0\n",
            "|   |   | X |\n",
            "|   |   |   |\n",
            "| O |   |   |\n"
          ]
        }
      ],
      "source": [
        "import time\n",
        "import math\n",
        "\n",
        "# Create the board\n",
        "def print_board(board):\n",
        "    for row in board:\n",
        "        print(\"| \" + \" | \".join(row) + \" |\")\n",
        "\n",
        "# Check if a player has won\n",
        "def check_win(board, player):\n",
        "    # Check rows, columns and diagonals\n",
        "    for row in board:\n",
        "        if all([cell == player for cell in row]):\n",
        "            return True\n",
        "\n",
        "    for col in range(3):\n",
        "        if all([board[row][col] == player for row in range(3)]):\n",
        "            return True\n",
        "\n",
        "    if all([board[i][i] == player for i in range(3)]) or \\\n",
        "       all([board[i][2 - i] == player for i in range(3)]):\n",
        "        return True\n",
        "\n",
        "    return False\n",
        "\n",
        "# Check if board is full\n",
        "def is_full(board):\n",
        "    return all(cell != ' ' for row in board for cell in row)\n",
        "\n",
        "# Get player's move\n",
        "def get_move(player):\n",
        "    while True:\n",
        "        try:\n",
        "            row = int(input(f\"{player}'s turn. Enter row (0-2): \"))\n",
        "            col = int(input(f\"{player}'s turn. Enter column (0-2): \"))\n",
        "            if row in range(3) and col in range(3):\n",
        "                return row, col\n",
        "            else:\n",
        "                print(\"Invalid input. Try again.\")\n",
        "        except ValueError:\n",
        "            print(\"Please enter numbers only.\")\n",
        "\n",
        "# Main game loop\n",
        "def play_game():\n",
        "    board = [[' ' for _ in range(3)] for _ in range(3)]\n",
        "    current_player = 'X'\n",
        "    print(\"Welcome to Tic-Tac-Toe!\")\n",
        "    print_board(board)\n",
        "\n",
        "    while True:\n",
        "        row, col = get_move(current_player)\n",
        "\n",
        "        if board[row][col] != ' ':\n",
        "            print(\"Cell already taken! Try again.\")\n",
        "            continue\n",
        "\n",
        "        board[row][col] = current_player\n",
        "        print_board(board)\n",
        "\n",
        "        if check_win(board, current_player):\n",
        "            print(f\"{current_player} wins!\")\n",
        "            break\n",
        "\n",
        "        if is_full(board):\n",
        "            print(\"It's a tie!\")\n",
        "            break\n",
        "\n",
        "        # Switch player\n",
        "        current_player = 'O' if current_player == 'X' else 'X'\n",
        "        time.sleep(0.5)\n",
        "\n",
        "play_game()\n"
      ]
    }
  ]
}