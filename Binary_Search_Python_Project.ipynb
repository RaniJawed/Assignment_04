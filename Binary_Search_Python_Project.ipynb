{
  "nbformat": 4,
  "nbformat_minor": 0,
  "metadata": {
    "colab": {
      "provenance": [],
      "authorship_tag": "ABX9TyOSoEQu3pnQIwLqgcLy+jnH",
      "include_colab_link": true
    },
    "kernelspec": {
      "name": "python3",
      "display_name": "Python 3"
    },
    "language_info": {
      "name": "python"
    }
  },
  "cells": [
    {
      "cell_type": "markdown",
      "metadata": {
        "id": "view-in-github",
        "colab_type": "text"
      },
      "source": [
        "<a href=\"https://colab.research.google.com/github/Mohsinraza23/Assignment-04/blob/main/Binary_Search_Python_Project.ipynb\" target=\"_parent\"><img src=\"https://colab.research.google.com/assets/colab-badge.svg\" alt=\"Open In Colab\"/></a>"
      ]
    },
    {
      "cell_type": "code",
      "execution_count": 1,
      "metadata": {
        "colab": {
          "base_uri": "https://localhost:8080/"
        },
        "id": "vOHrncCC59jm",
        "outputId": "4c8111cd-38d5-42b3-a674-cdec94d01e89"
      },
      "outputs": [
        {
          "output_type": "stream",
          "name": "stdout",
          "text": [
            "Enter a number to search: 11\n",
            "Checking index 4, value 9\n",
            "Checking index 7, value 15\n",
            "Checking index 5, value 11\n",
            "✅ Found at index 5\n"
          ]
        }
      ],
      "source": [
        "def binary_search(arr, target):\n",
        "    \"\"\"Performs binary search on a sorted list.\"\"\"\n",
        "    low = 0\n",
        "    high = len(arr) - 1\n",
        "\n",
        "    while low <= high:\n",
        "        mid = (low + high) // 2\n",
        "        guess = arr[mid]\n",
        "\n",
        "        print(f\"Checking index {mid}, value {guess}\")\n",
        "\n",
        "        if guess == target:\n",
        "            return mid  # Target found\n",
        "        elif guess < target:\n",
        "            low = mid + 1  # Search right half\n",
        "        else:\n",
        "            high = mid - 1  # Search left half\n",
        "\n",
        "    return -1  # Target not found\n",
        "\n",
        "# Sample sorted list\n",
        "numbers = [1, 3, 5, 7, 9, 11, 13, 15, 17, 19]\n",
        "\n",
        "# Input from user\n",
        "try:\n",
        "    user_input = int(input(\"Enter a number to search: \"))\n",
        "    result = binary_search(numbers, user_input)\n",
        "\n",
        "    if result != -1:\n",
        "        print(f\"✅ Found at index {result}\")\n",
        "    else:\n",
        "        print(\"❌ Not found in the list.\")\n",
        "except ValueError:\n",
        "    print(\"Please enter a valid integer.\")\n"
      ]
    }
  ]
}